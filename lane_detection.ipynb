{
  "cells": [
    {
      "cell_type": "code",
      "execution_count": 5,
      "metadata": {
        "colab": {
          "base_uri": "https://localhost:8080/"
        },
        "id": "twcSHvJyKY19",
        "outputId": "8bba8f6c-503b-4656-8dcc-f6a04f360522"
      },
      "outputs": [],
      "source": [
        "import os\n",
        "import numpy as np\n",
        "import matplotlib.image as mpimg\n",
        "import cv2\n",
        "from docopt import docopt\n",
        "from IPython.display import HTML\n",
        "from IPython.core.display import Video\n",
        "from moviepy.editor import VideoFileClip\n",
        "from CameraCalibration import CameraCalibration\n",
        "from Thresholding import *\n",
        "from PerspectiveTransformation import *\n",
        "from LaneLines import *\n",
        "\n",
        "class FindLaneLines:\n",
        "    def __init__(self):\n",
        "        \"\"\" Init Application\"\"\"\n",
        "        self.calibration = CameraCalibration('camera_cal', 9, 6)\n",
        "        self.thresholding = Thresholding()\n",
        "        self.transform = PerspectiveTransformation()\n",
        "        self.lanelines = LaneLines()\n",
        "\n",
        "    def forward(self, img):\n",
        "        out_img = np.copy(img)\n",
        "        img = self.calibration.undistort(img)\n",
        "        img = self.transform.forward(img)\n",
        "        img = self.thresholding.forward(img)\n",
        "        img = self.lanelines.forward(img)\n",
        "        img = self.transform.backward(img)\n",
        "\n",
        "        out_img = cv2.addWeighted(out_img, 1, img, 0.6, 0)\n",
        "        out_img = self.lanelines.plot(out_img)\n",
        "        return out_img\n",
        "\n",
        "    def process_image(self, input_path, output_path):\n",
        "        img = mpimg.imread(input_path)\n",
        "        out_img = self.forward(img)\n",
        "        mpimg.imsave(output_path, out_img)\n",
        "\n",
        "    def process_video(self, input_path, output_path):\n",
        "        clip = VideoFileClip(input_path)\n",
        "        out_clip = clip.fl_image(self.forward)\n",
        "        out_clip.write_videofile(output_path, audio=False)\n",
        "\n",
        "def laneLineDetection(videoPath):\n",
        "    findLaneLines = FindLaneLines()\n",
        "    findLaneLines.process_video(videoPath,'./outputs/'+os.path.splitext(videoPath)[0].split('/')[-1]+'out.mp4')"
      ]
    },
    {
      "cell_type": "code",
      "execution_count": 6,
      "metadata": {},
      "outputs": [
        {
          "name": "stdout",
          "output_type": "stream",
          "text": [
            " * Serving Flask app \"__main__\" (lazy loading)\n",
            " * Environment: production\n",
            "\u001b[31m   WARNING: This is a development server. Do not use it in a production deployment.\u001b[0m\n",
            "\u001b[2m   Use a production WSGI server instead.\u001b[0m\n",
            " * Debug mode: off\n"
          ]
        },
        {
          "name": "stderr",
          "output_type": "stream",
          "text": [
            " * Running on http://127.0.0.1:5000/ (Press CTRL+C to quit)\n",
            "127.0.0.1 - - [15/Mar/2023 14:26:53] \"GET / HTTP/1.1\" 200 -\n"
          ]
        },
        {
          "name": "stdout",
          "output_type": "stream",
          "text": [
            "Moviepy - Building video ./outputs/project_videoout.mp4.\n",
            "Moviepy - Writing video ./outputs/project_videoout.mp4\n",
            "\n"
          ]
        },
        {
          "name": "stderr",
          "output_type": "stream",
          "text": [
            "127.0.0.1 - - [15/Mar/2023 14:31:35] \"                          POST / HTTP/1.1\" 302 -\n",
            "[2023-03-15 14:31:35,576] ERROR in app: Exception on /play-video [GET]\n",
            "Traceback (most recent call last):\n",
            "  File \"c:\\Users\\kesav\\anaconda3\\lib\\site-packages\\flask\\app.py\", line 2447, in wsgi_app\n",
            "    response = self.full_dispatch_request()\n",
            "  File \"c:\\Users\\kesav\\anaconda3\\lib\\site-packages\\flask\\app.py\", line 1952, in full_dispatch_request\n",
            "    rv = self.handle_user_exception(e)\n",
            "  File \"c:\\Users\\kesav\\anaconda3\\lib\\site-packages\\flask\\app.py\", line 1821, in handle_user_exception\n",
            "    reraise(exc_type, exc_value, tb)\n",
            "  File \"c:\\Users\\kesav\\anaconda3\\lib\\site-packages\\flask\\_compat.py\", line 39, in reraise\n",
            "    raise value\n",
            "  File \"c:\\Users\\kesav\\anaconda3\\lib\\site-packages\\flask\\app.py\", line 1950, in full_dispatch_request\n",
            "    rv = self.dispatch_request()\n",
            "  File \"c:\\Users\\kesav\\anaconda3\\lib\\site-packages\\flask\\app.py\", line 1936, in dispatch_request\n",
            "    return self.view_functions[rule.endpoint](**req.view_args)\n",
            "  File \"C:\\Users\\kesav\\AppData\\Local\\Temp\\ipykernel_15576\\3335611318.py\", line 31, in play_video\n",
            "    video_url = url_for(path)\n",
            "  File \"c:\\Users\\kesav\\anaconda3\\lib\\site-packages\\flask\\helpers.py\", line 370, in url_for\n",
            "    return appctx.app.handle_url_build_error(error, endpoint, values)\n",
            "  File \"c:\\Users\\kesav\\anaconda3\\lib\\site-packages\\flask\\app.py\", line 2216, in handle_url_build_error\n",
            "    reraise(exc_type, exc_value, tb)\n",
            "  File \"c:\\Users\\kesav\\anaconda3\\lib\\site-packages\\flask\\_compat.py\", line 39, in reraise\n",
            "    raise value\n",
            "  File \"c:\\Users\\kesav\\anaconda3\\lib\\site-packages\\flask\\helpers.py\", line 357, in url_for\n",
            "    rv = url_adapter.build(\n",
            "  File \"c:\\Users\\kesav\\anaconda3\\lib\\site-packages\\werkzeug\\routing.py\", line 2315, in build\n",
            "    raise BuildError(endpoint, values, method, self)\n",
            "werkzeug.routing.BuildError: Could not build url for endpoint '/outputs/project_videoout.mp4'. Did you mean 'play_video' instead?\n",
            "127.0.0.1 - - [15/Mar/2023 14:31:35] \"GET /play-video?path=.%2Foutputs%2Fproject_videoout.mp4 HTTP/1.1\" 500 -\n"
          ]
        },
        {
          "name": "stdout",
          "output_type": "stream",
          "text": [
            "Moviepy - Done !\n",
            "Moviepy - video ready ./outputs/project_videoout.mp4\n"
          ]
        },
        {
          "name": "stderr",
          "output_type": "stream",
          "text": [
            "127.0.0.1 - - [15/Mar/2023 14:32:55] \"GET / HTTP/1.1\" 200 -\n"
          ]
        },
        {
          "name": "stdout",
          "output_type": "stream",
          "text": [
            "Moviepy - Building video ./outputs/challenge_videoout.mp4.\n",
            "Moviepy - Writing video ./outputs/challenge_videoout.mp4\n",
            "\n"
          ]
        },
        {
          "name": "stderr",
          "output_type": "stream",
          "text": [
            "127.0.0.1 - - [15/Mar/2023 14:35:03] \"                        POST / HTTP/1.1\" 302 -\n",
            "[2023-03-15 14:35:03,786] ERROR in app: Exception on /play-video [GET]\n",
            "Traceback (most recent call last):\n",
            "  File \"c:\\Users\\kesav\\anaconda3\\lib\\site-packages\\flask\\app.py\", line 2447, in wsgi_app\n",
            "    response = self.full_dispatch_request()\n",
            "  File \"c:\\Users\\kesav\\anaconda3\\lib\\site-packages\\flask\\app.py\", line 1952, in full_dispatch_request\n",
            "    rv = self.handle_user_exception(e)\n",
            "  File \"c:\\Users\\kesav\\anaconda3\\lib\\site-packages\\flask\\app.py\", line 1821, in handle_user_exception\n",
            "    reraise(exc_type, exc_value, tb)\n",
            "  File \"c:\\Users\\kesav\\anaconda3\\lib\\site-packages\\flask\\_compat.py\", line 39, in reraise\n",
            "    raise value\n",
            "  File \"c:\\Users\\kesav\\anaconda3\\lib\\site-packages\\flask\\app.py\", line 1950, in full_dispatch_request\n",
            "    rv = self.dispatch_request()\n",
            "  File \"c:\\Users\\kesav\\anaconda3\\lib\\site-packages\\flask\\app.py\", line 1936, in dispatch_request\n",
            "    return self.view_functions[rule.endpoint](**req.view_args)\n",
            "  File \"C:\\Users\\kesav\\AppData\\Local\\Temp\\ipykernel_15576\\3335611318.py\", line 31, in play_video\n",
            "    video_url = url_for(path)\n",
            "  File \"c:\\Users\\kesav\\anaconda3\\lib\\site-packages\\flask\\helpers.py\", line 370, in url_for\n",
            "    return appctx.app.handle_url_build_error(error, endpoint, values)\n",
            "  File \"c:\\Users\\kesav\\anaconda3\\lib\\site-packages\\flask\\app.py\", line 2216, in handle_url_build_error\n",
            "    reraise(exc_type, exc_value, tb)\n",
            "  File \"c:\\Users\\kesav\\anaconda3\\lib\\site-packages\\flask\\_compat.py\", line 39, in reraise\n",
            "    raise value\n",
            "  File \"c:\\Users\\kesav\\anaconda3\\lib\\site-packages\\flask\\helpers.py\", line 357, in url_for\n",
            "    rv = url_adapter.build(\n",
            "  File \"c:\\Users\\kesav\\anaconda3\\lib\\site-packages\\werkzeug\\routing.py\", line 2315, in build\n",
            "    raise BuildError(endpoint, values, method, self)\n",
            "werkzeug.routing.BuildError: Could not build url for endpoint '/outputs/challenge_videoout.mp4'. Did you mean 'play_video' instead?\n",
            "127.0.0.1 - - [15/Mar/2023 14:35:03] \"GET /play-video?path=.%2Foutputs%2Fchallenge_videoout.mp4 HTTP/1.1\" 500 -\n"
          ]
        },
        {
          "name": "stdout",
          "output_type": "stream",
          "text": [
            "Moviepy - Done !\n",
            "Moviepy - video ready ./outputs/challenge_videoout.mp4\n"
          ]
        }
      ],
      "source": [
        "from flask import Flask, render_template, request, url_for, redirect\n",
        "\n",
        "app = Flask(__name__)\n",
        "\n",
        "@app.route('/', methods=['GET', 'POST'])\n",
        "def home():\n",
        "    if request.method == 'POST':\n",
        "        file = request.files['file']\n",
        "        file.save('./uploads/' + file.filename)\n",
        "        laneLineDetection('./uploads/' + file.filename)\n",
        "        # return 'File saved!'\n",
        "        return redirect(url_for(\"play_video\",path='./outputs/' + file.filename.replace('.mp4','')+'out.mp4'))\n",
        "    return '''<!DOCTYPE html>\n",
        "<html>\n",
        "<head>\n",
        "    <title>Video Upload</title>\n",
        "</head>\n",
        "<body>\n",
        "    <form action=\"/\" method=\"post\" enctype=\"multipart/form-data\">\n",
        "        <input type=\"file\" name=\"file\">\n",
        "        <input type=\"submit\" value=\"Upload\">\n",
        "    </form>\n",
        "</body>\n",
        "</html>\n",
        "'''\n",
        "\n",
        "@app.route('/play-video')\n",
        "def play_video():\n",
        "    path = request.args.get('path').replace('%2','/')\n",
        "    # Get the URL for the video file\n",
        "    video_url = url_for(path)\n",
        "    # Render the HTML player template\n",
        "    # print(video_url)\n",
        "    return render_template('''<!DOCTYPE html>\n",
        "<html>\n",
        "  <body>\n",
        "    <video width=\"640\" height=\"360\" controls>\n",
        "  \t\t<source src=\"{{ video_url }}\" type=\"video/mp4\">\n",
        "    </video>\n",
        "  </body>\n",
        "</html>\n",
        "''', video_url=video_url)\n",
        "\n",
        "if __name__ == '__main__':\n",
        "    app.run()\n"
      ]
    }
  ],
  "metadata": {
    "colab": {
      "provenance": []
    },
    "kernelspec": {
      "display_name": "Python 3",
      "name": "python3"
    },
    "language_info": {
      "codemirror_mode": {
        "name": "ipython",
        "version": 3
      },
      "file_extension": ".py",
      "mimetype": "text/x-python",
      "name": "python",
      "nbconvert_exporter": "python",
      "pygments_lexer": "ipython3",
      "version": "3.9.13"
    }
  },
  "nbformat": 4,
  "nbformat_minor": 0
}
